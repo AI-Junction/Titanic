{
  "nbformat": 4,
  "nbformat_minor": 0,
  "metadata": {
    "colab": {
      "name": "Untitled4.ipynb",
      "version": "0.3.2",
      "provenance": [],
      "include_colab_link": true
    },
    "kernelspec": {
      "name": "python3",
      "display_name": "Python 3"
    }
  },
  "cells": [
    {
      "cell_type": "markdown",
      "metadata": {
        "id": "view-in-github",
        "colab_type": "text"
      },
      "source": [
        "<a href=\"https://colab.research.google.com/github/AI-Junction/Titanic/blob/master/Titanic.ipynb\" target=\"_parent\"><img src=\"https://colab.research.google.com/assets/colab-badge.svg\" alt=\"Open In Colab\"/></a>"
      ]
    },
    {
      "metadata": {
        "id": "jN8Vbj7qnwLz",
        "colab_type": "text"
      },
      "cell_type": "markdown",
      "source": [
        "Introduction\n",
        "\n",
        "This notebook is a very basic and simple introductory primer to the method of ensembling (combining) \n",
        "base learning models, in particular the variant of ensembling known as Stacking. \n",
        "In a nutshell stacking uses as a first-level (base), the predictions of a few basic \n",
        "classifiers and then uses another model at the second-level to predict the output \n",
        "from the earlier first-level predictions.\n",
        "\n",
        "The Titanic dataset is a prime candidate for introducing this concept as \n",
        "many newcomers start out here. Furthermore even though stacking has been \n",
        "responsible for many there seems to be a dearth of kernels on this topic \n",
        "so I hope this notebook can fill somewhat of that void.\n",
        "'''\n"
      ]
    },
    {
      "metadata": {
        "id": "rue_BK4prV5a",
        "colab_type": "code",
        "colab": {
          "base_uri": "https://localhost:8080/",
          "height": 445
        },
        "outputId": "758a4caf-2f59-4b95-cffa-e77da7a3aea0"
      },
      "cell_type": "code",
      "source": [
        "!pip install kaggle"
      ],
      "execution_count": 1,
      "outputs": [
        {
          "output_type": "stream",
          "text": [
            "Collecting kaggle\n",
            "\u001b[?25l  Downloading https://files.pythonhosted.org/packages/9e/94/5370052b9cbc63a927bda08c4f7473a35d3bb27cc071baa1a83b7f783352/kaggle-1.5.1.1.tar.gz (53kB)\n",
            "\r\u001b[K    19% |██████                          | 10kB 19.0MB/s eta 0:00:01\r\u001b[K    38% |████████████▏                   | 20kB 3.2MB/s eta 0:00:01\r\u001b[K    57% |██████████████████▎             | 30kB 4.6MB/s eta 0:00:01\r\u001b[K    76% |████████████████████████▍       | 40kB 3.0MB/s eta 0:00:01\r\u001b[K    95% |██████████████████████████████▌ | 51kB 3.7MB/s eta 0:00:01\r\u001b[K    100% |████████████████████████████████| 61kB 4.1MB/s \n",
            "\u001b[?25hRequirement already satisfied: urllib3<1.23.0,>=1.15 in /usr/local/lib/python3.6/dist-packages (from kaggle) (1.22)\n",
            "Requirement already satisfied: six>=1.10 in /usr/local/lib/python3.6/dist-packages (from kaggle) (1.11.0)\n",
            "Requirement already satisfied: certifi in /usr/local/lib/python3.6/dist-packages (from kaggle) (2018.11.29)\n",
            "Requirement already satisfied: python-dateutil in /usr/local/lib/python3.6/dist-packages (from kaggle) (2.5.3)\n",
            "Requirement already satisfied: requests in /usr/local/lib/python3.6/dist-packages (from kaggle) (2.18.4)\n",
            "Requirement already satisfied: tqdm in /usr/local/lib/python3.6/dist-packages (from kaggle) (4.28.1)\n",
            "Collecting python-slugify (from kaggle)\n",
            "  Downloading https://files.pythonhosted.org/packages/00/ad/c778a6df614b6217c30fe80045b365bfa08b5dd3cb02e8b37a6d25126781/python-slugify-1.2.6.tar.gz\n",
            "Requirement already satisfied: idna<2.7,>=2.5 in /usr/local/lib/python3.6/dist-packages (from requests->kaggle) (2.6)\n",
            "Requirement already satisfied: chardet<3.1.0,>=3.0.2 in /usr/local/lib/python3.6/dist-packages (from requests->kaggle) (3.0.4)\n",
            "Collecting Unidecode>=0.04.16 (from python-slugify->kaggle)\n",
            "\u001b[?25l  Downloading https://files.pythonhosted.org/packages/31/39/53096f9217b057cb049fe872b7fc7ce799a1a89b76cf917d9639e7a558b5/Unidecode-1.0.23-py2.py3-none-any.whl (237kB)\n",
            "\u001b[K    100% |████████████████████████████████| 245kB 11.4MB/s \n",
            "\u001b[?25hBuilding wheels for collected packages: kaggle, python-slugify\n",
            "  Running setup.py bdist_wheel for kaggle ... \u001b[?25l-\b \b\\\b \bdone\n",
            "\u001b[?25h  Stored in directory: /root/.cache/pip/wheels/5a/2d/0c/9fc539e558586b9ed9127916a7f4e620163c24cc97460b1188\n",
            "  Running setup.py bdist_wheel for python-slugify ... \u001b[?25l-\b \bdone\n",
            "\u001b[?25h  Stored in directory: /root/.cache/pip/wheels/e3/65/da/2045deea3098ed7471eca0e2460cfbd3fdfe8c1d6fa6fcac92\n",
            "Successfully built kaggle python-slugify\n",
            "Installing collected packages: Unidecode, python-slugify, kaggle\n",
            "Successfully installed Unidecode-1.0.23 kaggle-1.5.1.1 python-slugify-1.2.6\n"
          ],
          "name": "stdout"
        }
      ]
    },
    {
      "metadata": {
        "id": "w4otQcKeraiP",
        "colab_type": "code",
        "colab": {
          "base_uri": "https://localhost:8080/",
          "height": 34
        },
        "outputId": "ba1935b6-42c1-4ce7-dc7e-ef90f9d47111"
      },
      "cell_type": "code",
      "source": [
        "from googleapiclient.discovery import build\n",
        "import io, os\n",
        "from googleapiclient.http import MediaIoBaseDownload\n",
        "from google.colab import auth\n",
        "\n",
        "auth.authenticate_user()\n",
        "\n",
        "drive_service = build('drive', 'v3')\n",
        "results = drive_service.files().list(\n",
        "        q=\"name = 'kaggle.json'\", fields=\"files(id)\").execute()\n",
        "kaggle_api_key = results.get('files', [])\n",
        "\n",
        "#filename = \"/content/.kaggle/kaggle.json\"\n",
        "#filename = \"/.kaggle/kaggle.json\"\n",
        "filename = \"kaggle.json\"\n",
        "#os.makedirs(os.path.dirname(filename), exist_ok=True)\n",
        "\n",
        "request = drive_service.files().get_media(fileId=kaggle_api_key[0]['id'])\n",
        "fh = io.FileIO(filename, 'wb')\n",
        "downloader = MediaIoBaseDownload(fh, request)\n",
        "done = False\n",
        "while done is False:\n",
        "    status, done = downloader.next_chunk()\n",
        "    print(\"Download %d%%.\" % int(status.progress() * 100))\n",
        "os.chmod(filename, 600)"
      ],
      "execution_count": 2,
      "outputs": [
        {
          "output_type": "stream",
          "text": [
            "Download 100%.\n"
          ],
          "name": "stdout"
        }
      ]
    },
    {
      "metadata": {
        "id": "jLNZrcVMrku9",
        "colab_type": "code",
        "colab": {
          "base_uri": "https://localhost:8080/",
          "height": 34
        },
        "outputId": "9a3fbf69-a4b2-4b1e-cca3-99b4f84d5889"
      },
      "cell_type": "code",
      "source": [
        "!ls -lha kaggle.json"
      ],
      "execution_count": 3,
      "outputs": [
        {
          "output_type": "stream",
          "text": [
            "---x-wx--T 1 root root 65 Dec  7 17:23 kaggle.json\n"
          ],
          "name": "stdout"
        }
      ]
    },
    {
      "metadata": {
        "id": "jf1yWyTxrnsw",
        "colab_type": "code",
        "colab": {
          "base_uri": "https://localhost:8080/",
          "height": 34
        },
        "outputId": "65bd75cb-1887-4386-e293-28cc2e3f77e7"
      },
      "cell_type": "code",
      "source": [
        "os.path.isdir(\"/root/.kaggle\")"
      ],
      "execution_count": 4,
      "outputs": [
        {
          "output_type": "execute_result",
          "data": {
            "text/plain": [
              "False"
            ]
          },
          "metadata": {
            "tags": []
          },
          "execution_count": 4
        }
      ]
    },
    {
      "metadata": {
        "id": "BBEP7DWjroq7",
        "colab_type": "code",
        "colab": {
          "base_uri": "https://localhost:8080/",
          "height": 34
        },
        "outputId": "030b922b-50cd-4032-84ab-b3f0c797d2db"
      },
      "cell_type": "code",
      "source": [
        "dir_kaggle = \"/root/.kaggle\"\n",
        "if not os.path.isdir(dir_kaggle):\n",
        "  !mkdir -p ~/.kaggle  \n",
        "!cp kaggle.json ~/.kaggle/\n",
        "os.path.isdir(dir_kaggle)"
      ],
      "execution_count": 5,
      "outputs": [
        {
          "output_type": "execute_result",
          "data": {
            "text/plain": [
              "True"
            ]
          },
          "metadata": {
            "tags": []
          },
          "execution_count": 5
        }
      ]
    },
    {
      "metadata": {
        "id": "1TqZbmsTrvHA",
        "colab_type": "code",
        "colab": {}
      },
      "cell_type": "code",
      "source": [
        "!chmod 600 ~/.kaggle/kaggle.json"
      ],
      "execution_count": 0,
      "outputs": []
    },
    {
      "metadata": {
        "id": "7Rf07saarytd",
        "colab_type": "code",
        "colab": {
          "base_uri": "https://localhost:8080/",
          "height": 122
        },
        "outputId": "2d70624a-92fd-4938-9ce1-e9af36c294ac"
      },
      "cell_type": "code",
      "source": [
        "# Load the Drive helper and mount\n",
        "from google.colab import drive\n",
        "\n",
        "# This will prompt for authorization.\n",
        "drive.mount('/content/drive')"
      ],
      "execution_count": 7,
      "outputs": [
        {
          "output_type": "stream",
          "text": [
            "Go to this URL in a browser: https://accounts.google.com/o/oauth2/auth?client_id=947318989803-6bn6qk8qdgf4n4g3pfee6491hc0brc4i.apps.googleusercontent.com&redirect_uri=urn%3Aietf%3Awg%3Aoauth%3A2.0%3Aoob&scope=email%20https%3A%2F%2Fwww.googleapis.com%2Fauth%2Fdocs.test%20https%3A%2F%2Fwww.googleapis.com%2Fauth%2Fdrive%20https%3A%2F%2Fwww.googleapis.com%2Fauth%2Fdrive.photos.readonly%20https%3A%2F%2Fwww.googleapis.com%2Fauth%2Fpeopleapi.readonly&response_type=code\n",
            "\n",
            "Enter your authorization code:\n",
            "··········\n",
            "Mounted at /content/drive\n"
          ],
          "name": "stdout"
        }
      ]
    },
    {
      "metadata": {
        "id": "EHKX7cqyr6hM",
        "colab_type": "code",
        "colab": {
          "base_uri": "https://localhost:8080/",
          "height": 102
        },
        "outputId": "b2a4a496-411e-40b2-a955-ff5559464c49"
      },
      "cell_type": "code",
      "source": [
        "!kaggle competitions files -c Titanic"
      ],
      "execution_count": 8,
      "outputs": [
        {
          "output_type": "stream",
          "text": [
            "name                   size  creationDate         \n",
            "---------------------  ----  -------------------  \n",
            "train.csv              60KB  2013-06-28 13:40:25  \n",
            "test.csv               28KB  2013-06-28 13:40:24  \n",
            "gender_submission.csv   3KB  2017-02-01 01:49:18  \n"
          ],
          "name": "stdout"
        }
      ]
    },
    {
      "metadata": {
        "id": "VTxujb8zniPl",
        "colab_type": "code",
        "colab": {
          "base_uri": "https://localhost:8080/",
          "height": 170
        },
        "outputId": "a4ba0fff-c80a-4791-e4de-3c27829052a4"
      },
      "cell_type": "code",
      "source": [
        "#%%\n",
        "\n",
        "#load generic packages\n",
        "\n",
        "import sys #access to system parameters https://docs.python.org/3/library/sys.html\n",
        "print(\"Python version: {}\". format(sys.version))\n",
        "\n",
        "import pandas as pd #collection of functions for data processing and analysis modeled after R dataframes with SQL like features\n",
        "print(\"pandas version: {}\". format(pd.__version__))\n",
        "\n",
        "import matplotlib #collection of functions for scientific and publication-ready visualization\n",
        "print(\"matplotlib version: {}\". format(matplotlib.__version__))\n",
        "\n",
        "import numpy as np #foundational package for scientific computing\n",
        "print(\"NumPy version: {}\". format(np.__version__))\n",
        "\n",
        "import scipy as sp #collection of functions for scientific computing and advance mathematics\n",
        "print(\"SciPy version: {}\". format(sp.__version__)) \n",
        "\n",
        "import IPython\n",
        "from IPython import display #pretty printing of dataframes in Jupyter notebook\n",
        "print(\"IPython version: {}\". format(IPython.__version__)) \n",
        "\n",
        "import sklearn #collection of machine learning algorithms\n",
        "print(\"scikit-learn version: {}\". format(sklearn.__version__))\n",
        "\n",
        "#misc libraries\n",
        "import random\n",
        "import time\n",
        "\n",
        "\n",
        "#ignore warnings\n",
        "import warnings\n",
        "warnings.filterwarnings('ignore')\n",
        "print('-'*25)\n",
        "\n",
        "\n",
        "\n",
        "# Load in our libraries\n",
        "\n",
        "import re\n",
        "import matplotlib.pyplot as plt\n",
        "\n",
        "\n",
        "#import plotly.offline as py\n",
        "#py.init_notebook_mode(connected=True)\n",
        "#import plotly.graph_objs as go\n",
        "#import plotly.tools as tls\n",
        "#import warnings\n",
        "#import xgboost as xgb\n",
        "#import seaborn as sns\n",
        "#%matplotlib inline\n",
        "\n",
        "\n",
        "#%%\n",
        "\n"
      ],
      "execution_count": 10,
      "outputs": [
        {
          "output_type": "stream",
          "text": [
            "Python version: 3.6.7 (default, Oct 22 2018, 11:32:17) \n",
            "[GCC 8.2.0]\n",
            "pandas version: 0.22.0\n",
            "matplotlib version: 2.1.2\n",
            "NumPy version: 1.14.6\n",
            "SciPy version: 1.1.0\n",
            "IPython version: 5.5.0\n",
            "scikit-learn version: 0.19.2\n",
            "-------------------------\n"
          ],
          "name": "stdout"
        }
      ]
    },
    {
      "metadata": {
        "id": "e4JvQslEo7tz",
        "colab_type": "code",
        "colab": {}
      },
      "cell_type": "code",
      "source": [
        "#load classification models\n",
        "\n",
        "# Going to use these 5 base models for the stacking\n",
        "\n",
        "from sklearn.ensemble import (RandomForestClassifier, AdaBoostClassifier, GradientBoostingClassifier, ExtraTreesClassifier)\n",
        "from sklearn.svm import SVC\n",
        "from sklearn.cross_validation import KFold\n",
        "\n",
        "\n"
      ],
      "execution_count": 0,
      "outputs": []
    },
    {
      "metadata": {
        "id": "d1L4e152pAbe",
        "colab_type": "code",
        "colab": {
          "base_uri": "https://localhost:8080/",
          "height": 68
        },
        "outputId": "749f3f24-5ccb-463f-cd5d-b579bff4e309"
      },
      "cell_type": "code",
      "source": [
        "#%%\n",
        "\n",
        "# load data from local files\n",
        "dsb_data_dir = 'drive/My Drive/Machine Learning/All ML Datasets'\n",
        "label = 'titanic'\n",
        "\n",
        "file_path_train = os.path.join(dsb_data_dir,'{}_train.csv'.format(label))\n",
        "file_path_test = os.path.join(dsb_data_dir,'{}_test.csv'.format(label))\n",
        "\n",
        "\n",
        "train = pd.read_csv(file_path_train)\n",
        "test = pd.read_csv(file_path_test)\n",
        "\n",
        "train.shape\n",
        "test.shape\n",
        "\n",
        "train.columns.values\n",
        "test.columns\n",
        "\n"
      ],
      "execution_count": 26,
      "outputs": [
        {
          "output_type": "execute_result",
          "data": {
            "text/plain": [
              "Index(['PassengerId', 'Pclass', 'Name', 'Sex', 'Age', 'SibSp', 'Parch',\n",
              "       'Ticket', 'Fare', 'Cabin', 'Embarked'],\n",
              "      dtype='object')"
            ]
          },
          "metadata": {
            "tags": []
          },
          "execution_count": 26
        }
      ]
    },
    {
      "metadata": {
        "id": "gVPOM3e-pGVA",
        "colab_type": "code",
        "colab": {
          "base_uri": "https://localhost:8080/",
          "height": 595
        },
        "outputId": "4e87014c-21dd-4244-af71-ade5eca46676"
      },
      "cell_type": "code",
      "source": [
        "#Which features are mixed data types?\n",
        "\n",
        "\n",
        "train.info()\n",
        "test.info()\n",
        "\n",
        "train.describe()\n",
        "test.describe()\n",
        "\n",
        "train.describe(include=[np.object])\n",
        "train.describe(include=[np.number])\n",
        "#train.describe(include=['Ticket'])\n",
        "\n",
        "\n",
        "train['Fare'].isnull().sum()\n",
        "\n",
        "\n",
        "\n"
      ],
      "execution_count": 27,
      "outputs": [
        {
          "output_type": "stream",
          "text": [
            "<class 'pandas.core.frame.DataFrame'>\n",
            "RangeIndex: 891 entries, 0 to 890\n",
            "Data columns (total 12 columns):\n",
            "PassengerId    891 non-null int64\n",
            "Survived       891 non-null int64\n",
            "Pclass         891 non-null int64\n",
            "Name           891 non-null object\n",
            "Sex            891 non-null object\n",
            "Age            714 non-null float64\n",
            "SibSp          891 non-null int64\n",
            "Parch          891 non-null int64\n",
            "Ticket         891 non-null object\n",
            "Fare           891 non-null float64\n",
            "Cabin          204 non-null object\n",
            "Embarked       889 non-null object\n",
            "dtypes: float64(2), int64(5), object(5)\n",
            "memory usage: 83.6+ KB\n",
            "<class 'pandas.core.frame.DataFrame'>\n",
            "RangeIndex: 418 entries, 0 to 417\n",
            "Data columns (total 11 columns):\n",
            "PassengerId    418 non-null int64\n",
            "Pclass         418 non-null int64\n",
            "Name           418 non-null object\n",
            "Sex            418 non-null object\n",
            "Age            332 non-null float64\n",
            "SibSp          418 non-null int64\n",
            "Parch          418 non-null int64\n",
            "Ticket         418 non-null object\n",
            "Fare           417 non-null float64\n",
            "Cabin          91 non-null object\n",
            "Embarked       418 non-null object\n",
            "dtypes: float64(2), int64(4), object(5)\n",
            "memory usage: 36.0+ KB\n"
          ],
          "name": "stdout"
        },
        {
          "output_type": "execute_result",
          "data": {
            "text/plain": [
              "0"
            ]
          },
          "metadata": {
            "tags": []
          },
          "execution_count": 27
        }
      ]
    },
    {
      "metadata": {
        "id": "Ef1QnUBypLro",
        "colab_type": "code",
        "colab": {
          "base_uri": "https://localhost:8080/",
          "height": 266
        },
        "outputId": "671726fe-4a5a-4fbe-d93b-d13cf18e53bd"
      },
      "cell_type": "code",
      "source": [
        "#%%\n",
        "\n",
        "'''\n",
        "Assumtions based on data analysis\n",
        "\n",
        "We arrive at following assumptions based on data analysis done so far. We \n",
        "may validate these assumptions further before taking appropriate actions.\n",
        "\n",
        "Correlating.\n",
        "\n",
        "We want to know how well does each feature correlate with Survival. \n",
        "We want to do this early in our project and match these quick correlations with \n",
        "modelled correlations later in the project.\n",
        "\n",
        "Completing.\n",
        "\n",
        "    We may want to complete Age feature as it is definitely correlated to survival.\n",
        "    We may want to complete the Embarked feature as it may also correlate with survival or \n",
        "    another important feature.\n",
        "\n",
        "Correcting.\n",
        "\n",
        "    Ticket feature may be dropped from our analysis as it contains high ratio of duplicates \n",
        "    (22%) and there may not be a correlation between Ticket and survival.\n",
        "    Cabin feature may be dropped as it is highly incomplete or contains many null values \n",
        "    both in training and test dataset.\n",
        "    PassengerId may be dropped from training dataset as it does not contribute to survival.\n",
        "    Name feature is relatively non-standard, may not contribute directly to survival, so maybe dropped.\n",
        "\n",
        "Creating.\n",
        "\n",
        "    We may want to create a new feature called Family based on Parch and SibSp \n",
        "    to get total count of family members on board.\n",
        "    We may want to engineer the Name feature to extract Title as a new feature.\n",
        "    We may want to create new feature for Age bands. This turns a continous numerical \n",
        "    feature into an ordinal categorical feature.\n",
        "    We may also want to create a Fare range feature if it helps our analysis.\n",
        "\n",
        "Classifying.\n",
        "\n",
        "We may also add to our assumptions based on the problem description noted earlier.\n",
        "\n",
        "    Women (Sex=female) were more likely to have survived.\n",
        "    Children (Age<?) were more likely to have survived.\n",
        "    The upper-class passengers (Pclass=1) were more likely to have survived.\n",
        "\n",
        "'''\n",
        "\n",
        "\n",
        "\n",
        "\n",
        "#%%\n",
        "\n",
        "'''\n",
        "Analyze by pivoting features\n",
        "\n",
        "To confirm some of our observations and assumptions, we can quickly analyze our feature correlations by pivoting features against each other. We can only do so at this stage for features which do not have any empty values. It also makes sense doing so only for features which are categorical (Sex), ordinal (Pclass) or discrete (SibSp, Parch) type.\n",
        "\n",
        "    Pclass We observe significant correlation (>0.5) among Pclass=1 and Survived (classifying #3). We decide to include this feature in our model.\n",
        "    Sex We confirm the observation during problem definition that Sex=female had very high survival rate at 74% (classifying #1).\n",
        "    SibSp and Parch These features have zero correlation for certain values. It may be best to derive a feature or a set of features from these individual features (creating #1).\n",
        "\n",
        "'''\n",
        "\n",
        "\n",
        "train[['Pclass', 'Survived']].groupby(['Pclass'], as_index=False).mean().sort_values(by='Survived', ascending=False)\n",
        "train[[\"Sex\", \"Survived\"]].groupby(['Sex'], as_index=False).mean().sort_values(by='Survived', ascending=False)\n",
        "train[[\"SibSp\", \"Survived\"]].groupby(['SibSp'], as_index=False).mean().sort_values(by='Survived', ascending=False)\n",
        "train[[\"Parch\", \"Survived\"]].groupby(['Parch'], as_index=False).mean().sort_values(by='Survived', ascending=False)\n",
        "\n",
        "\n",
        "\n",
        "\n",
        "\n"
      ],
      "execution_count": 28,
      "outputs": [
        {
          "output_type": "execute_result",
          "data": {
            "text/html": [
              "<div>\n",
              "<style scoped>\n",
              "    .dataframe tbody tr th:only-of-type {\n",
              "        vertical-align: middle;\n",
              "    }\n",
              "\n",
              "    .dataframe tbody tr th {\n",
              "        vertical-align: top;\n",
              "    }\n",
              "\n",
              "    .dataframe thead th {\n",
              "        text-align: right;\n",
              "    }\n",
              "</style>\n",
              "<table border=\"1\" class=\"dataframe\">\n",
              "  <thead>\n",
              "    <tr style=\"text-align: right;\">\n",
              "      <th></th>\n",
              "      <th>Parch</th>\n",
              "      <th>Survived</th>\n",
              "    </tr>\n",
              "  </thead>\n",
              "  <tbody>\n",
              "    <tr>\n",
              "      <th>3</th>\n",
              "      <td>3</td>\n",
              "      <td>0.600000</td>\n",
              "    </tr>\n",
              "    <tr>\n",
              "      <th>1</th>\n",
              "      <td>1</td>\n",
              "      <td>0.550847</td>\n",
              "    </tr>\n",
              "    <tr>\n",
              "      <th>2</th>\n",
              "      <td>2</td>\n",
              "      <td>0.500000</td>\n",
              "    </tr>\n",
              "    <tr>\n",
              "      <th>0</th>\n",
              "      <td>0</td>\n",
              "      <td>0.343658</td>\n",
              "    </tr>\n",
              "    <tr>\n",
              "      <th>5</th>\n",
              "      <td>5</td>\n",
              "      <td>0.200000</td>\n",
              "    </tr>\n",
              "    <tr>\n",
              "      <th>4</th>\n",
              "      <td>4</td>\n",
              "      <td>0.000000</td>\n",
              "    </tr>\n",
              "    <tr>\n",
              "      <th>6</th>\n",
              "      <td>6</td>\n",
              "      <td>0.000000</td>\n",
              "    </tr>\n",
              "  </tbody>\n",
              "</table>\n",
              "</div>"
            ],
            "text/plain": [
              "   Parch  Survived\n",
              "3      3  0.600000\n",
              "1      1  0.550847\n",
              "2      2  0.500000\n",
              "0      0  0.343658\n",
              "5      5  0.200000\n",
              "4      4  0.000000\n",
              "6      6  0.000000"
            ]
          },
          "metadata": {
            "tags": []
          },
          "execution_count": 28
        }
      ]
    },
    {
      "metadata": {
        "id": "EXArVCPHpf4c",
        "colab_type": "code",
        "colab": {}
      },
      "cell_type": "code",
      "source": [
        "\n",
        "#%%\n",
        "\n",
        "'''\n",
        "Feature Exploration, Engineering and Cleaning\n",
        "\n",
        "Now we will proceed much like how most kernels in general are structured, \n",
        "and that is to first explore the data on hand, identify possible feature \n",
        "engineering opportunities as well as numerically encode any categorical features.\n",
        "'''\n",
        "\n",
        "\n",
        "\n",
        "# Store our passenger ID for easy access\n",
        "\n",
        "PassengerId = test['PassengerId']\n",
        "\n",
        "train.head(3)\n",
        "\n",
        "full_data = [train, test]\n",
        "\n",
        "# Some features of my own that I have added in\n",
        "\n",
        "# Gives the length of the name\n",
        "\n",
        "train['Name_length'] = train['Name'].apply(len)\n",
        "test['Name_length'] = test['Name'].apply(len)\n",
        "\n",
        "# Feature that tells whether a passenger had a cabin on the Titanic\n",
        "\n",
        "train['Has_Cabin'] = train[\"Cabin\"].apply(lambda x: 0 if type(x) == float else 1)\n",
        "test['Has_Cabin'] = test[\"Cabin\"].apply(lambda x: 0 if type(x) == float else 1)\n",
        "\n",
        "# Feature engineering steps taken from Sina\n",
        "\n",
        "# Create new feature FamilySize as a combination of SibSp and Parch\n",
        "\n",
        "for dataset in full_data:\n",
        "    dataset['FamilySize'] = dataset['SibSp'] + dataset['Parch'] + 1\n",
        "\n",
        "# Create new feature IsAlone from FamilySize\n",
        "\n",
        "for dataset in full_data:\n",
        "    dataset['IsAlone'] = 0\n",
        "    dataset.loc[dataset['FamilySize'] == 1, 'IsAlone'] = 1\n",
        "\n",
        "# Remove all NULLS in the Embarked column\n",
        "\n",
        "for dataset in full_data:\n",
        "    dataset['Embarked'] = dataset['Embarked'].fillna('S')\n",
        "\n",
        "# Remove all NULLS in the Fare column and create a new feature CategoricalFare\n",
        "\n",
        "for dataset in full_data:\n",
        "    dataset['Fare'] = dataset['Fare'].fillna(train['Fare'].median())\n",
        "\n",
        "\n"
      ],
      "execution_count": 0,
      "outputs": []
    },
    {
      "metadata": {
        "id": "DM9X-yYSpnAv",
        "colab_type": "code",
        "colab": {}
      },
      "cell_type": "code",
      "source": [
        "#%%\n",
        "\n",
        "#train['CategoricalFare'] = pd.qcut(train['Fare'], 4)\n",
        "\n",
        "#train['CategoricalFare'][:3]\n",
        "\n",
        "# Create a New feature CategoricalAge\n",
        "\n",
        "for dataset in full_data:\n",
        "    age_avg = dataset['Age'].mean()\n",
        "    age_std = dataset['Age'].std()\n",
        "    age_null_count = dataset['Age'].isnull().sum()\n",
        "    age_null_random_list = np.random.randint(age_avg - age_std, age_avg + age_std, size=age_null_count)\n",
        "    dataset['Age'][np.isnan(dataset['Age'])] = age_null_random_list\n",
        "    dataset['Age'] = dataset['Age'].astype(int)\n",
        "\n",
        "\n",
        "\n"
      ],
      "execution_count": 0,
      "outputs": []
    },
    {
      "metadata": {
        "id": "x7dz9P8upq3B",
        "colab_type": "code",
        "colab": {
          "base_uri": "https://localhost:8080/",
          "height": 187
        },
        "outputId": "151b750d-fc7a-4c65-e505-ec409bca3bdc"
      },
      "cell_type": "code",
      "source": [
        "\n",
        "\n",
        "train['CategoricalAge'] = pd.cut(train['Age'], 5)\n",
        "\n",
        "print(train['CategoricalAge'][:5])\n",
        "\n",
        "# Define function to extract titles from passenger names\n",
        "\n",
        "def get_title(name):\n",
        "    title_search = re.search(' ([A-Za-z]+)\\.', name)\n",
        "\n",
        "    # If the title exists, extract and return it.\n",
        "\n",
        "    if title_search:\n",
        "        return title_search.group(1)\n",
        "\n",
        "    return \"\"\n",
        "\n",
        "# Create a new feature Title, containing the titles of passenger names\n",
        "\n",
        "for dataset in full_data:\n",
        "    dataset['Title'] = dataset['Name'].apply(get_title)\n",
        "\n",
        "print(train['Title'].unique())\n",
        "\n",
        "# Group all non-common titles into one single grouping \"Rare\"\n",
        "\n",
        "for dataset in full_data:\n",
        "    dataset['Title'] = dataset['Title'].replace(['Lady', 'Countess','Capt', 'Col','Don', 'Dr', 'Major', 'Rev', 'Sir', 'Jonkheer', 'Dona'], 'Rare')\n",
        "    dataset['Title'] = dataset['Title'].replace('Mlle', 'Miss')\n",
        "    dataset['Title'] = dataset['Title'].replace('Ms', 'Miss')\n",
        "    dataset['Title'] = dataset['Title'].replace('Mme', 'Mrs')\n",
        "\n"
      ],
      "execution_count": 31,
      "outputs": [
        {
          "output_type": "stream",
          "text": [
            "0    (16.0, 32.0]\n",
            "1    (32.0, 48.0]\n",
            "2    (16.0, 32.0]\n",
            "3    (32.0, 48.0]\n",
            "4    (32.0, 48.0]\n",
            "Name: CategoricalAge, dtype: category\n",
            "Categories (5, interval[float64]): [(-0.08, 16.0] < (16.0, 32.0] < (32.0, 48.0] < (48.0, 64.0] <\n",
            "                                    (64.0, 80.0]]\n",
            "['Mr' 'Mrs' 'Miss' 'Master' 'Don' 'Rev' 'Dr' 'Mme' 'Ms' 'Major' 'Lady'\n",
            " 'Sir' 'Mlle' 'Col' 'Capt' 'Countess' 'Jonkheer']\n"
          ],
          "name": "stdout"
        }
      ]
    },
    {
      "metadata": {
        "id": "s0q5NAjTpyYe",
        "colab_type": "code",
        "colab": {}
      },
      "cell_type": "code",
      "source": [
        "\n",
        "\n",
        "for dataset in full_data:\n",
        "    # Mapping Sex\n",
        "    dataset['Sex'] = dataset['Sex'].map( {'female': 0, 'male': 1} ).astype(int)\n",
        "\n",
        "    # Mapping titles\n",
        "    title_mapping = {\"Mr\": 1, \"Miss\": 2, \"Mrs\": 3, \"Master\": 4, \"Rare\": 5}\n",
        "    dataset['Title'] = dataset['Title'].map(title_mapping)\n",
        "    dataset['Title'] = dataset['Title'].fillna(0)\n",
        "\n",
        "    # Mapping Embarked\n",
        "    dataset['Embarked'] = dataset['Embarked'].map( {'S': 0, 'C': 1, 'Q': 2} ).astype(int)\n",
        "\n",
        "    # Mapping Fare\n",
        "    dataset.loc[ dataset['Fare'] <= 7.91, 'Fare']                               = 0\n",
        "    dataset.loc[(dataset['Fare'] > 7.91) & (dataset['Fare'] <= 14.454), 'Fare'] = 1\n",
        "    dataset.loc[(dataset['Fare'] > 14.454) & (dataset['Fare'] <= 31), 'Fare']   = 2\n",
        "    dataset.loc[ dataset['Fare'] > 31, 'Fare']                                  = 3\n",
        "    dataset['Fare'] = dataset['Fare'].astype(int)\n",
        "\n",
        "    # Mapping Age\n",
        "    dataset.loc[ dataset['Age'] <= 16, 'Age']                          = 0\n",
        "    dataset.loc[(dataset['Age'] > 16) & (dataset['Age'] <= 32), 'Age'] = 1\n",
        "    dataset.loc[(dataset['Age'] > 32) & (dataset['Age'] <= 48), 'Age'] = 2\n",
        "    dataset.loc[(dataset['Age'] > 48) & (dataset['Age'] <= 64), 'Age'] = 3\n",
        "    dataset.loc[ dataset['Age'] > 64, 'Age'] = 4 ;\n",
        "\n"
      ],
      "execution_count": 0,
      "outputs": []
    },
    {
      "metadata": {
        "id": "sulIYMUfp2-I",
        "colab_type": "code",
        "colab": {
          "base_uri": "https://localhost:8080/",
          "height": 357
        },
        "outputId": "f94f9634-e9a6-4088-85a9-a62c20e045ea"
      },
      "cell_type": "code",
      "source": [
        "# Feature selection\n",
        "\n",
        "drop_elements = ['PassengerId', 'Name', 'Ticket', 'Cabin', 'SibSp']\n",
        "train = train.drop(drop_elements, axis = 1)\n",
        "train = train.drop(['CategoricalAge'], axis = 1)\n",
        "test  = test.drop(drop_elements, axis = 1)\n",
        "\n",
        "train.shape\n",
        "test.shape\n",
        "train.columns\n",
        "test.columns\n",
        "\n",
        "train.head()\n",
        "\n",
        "train.dtypes\n",
        "test.dtypes\n",
        "\n",
        "for col in train.columns:\n",
        "    print(train[col].dtype)\n",
        "\n",
        "train_columns_dtype = train.dtypes.reset_index()\n",
        "train_columns_dtype.columns = ['col', 'type']\n",
        "train_columns_dtype_grouped = train_columns_dtype.groupby('type').aggregate('count').reset_index()\n",
        "print(train_columns_dtype_grouped)\n",
        "\n",
        "train.shape\n",
        "test.shape\n",
        "\n",
        "print(train.columns)\n",
        "print(test.columns)\n",
        "\n",
        "\n"
      ],
      "execution_count": 33,
      "outputs": [
        {
          "output_type": "stream",
          "text": [
            "int64\n",
            "int64\n",
            "int64\n",
            "int64\n",
            "int64\n",
            "int64\n",
            "int64\n",
            "int64\n",
            "int64\n",
            "int64\n",
            "int64\n",
            "int64\n",
            "    type  col\n",
            "0  int64   12\n",
            "Index(['Survived', 'Pclass', 'Sex', 'Age', 'Parch', 'Fare', 'Embarked',\n",
            "       'Name_length', 'Has_Cabin', 'FamilySize', 'IsAlone', 'Title'],\n",
            "      dtype='object')\n",
            "Index(['Pclass', 'Sex', 'Age', 'Parch', 'Fare', 'Embarked', 'Name_length',\n",
            "       'Has_Cabin', 'FamilySize', 'IsAlone', 'Title'],\n",
            "      dtype='object')\n"
          ],
          "name": "stdout"
        }
      ]
    },
    {
      "metadata": {
        "id": "oFKHJWxUp7v3",
        "colab_type": "code",
        "colab": {
          "base_uri": "https://localhost:8080/",
          "height": 2363
        },
        "outputId": "a475d933-0a75-4789-cbd3-06c13c8c2678"
      },
      "cell_type": "code",
      "source": [
        "#%%\n",
        "\n",
        "#Compare survival rates\n",
        "\n",
        "pd.crosstab(train['Title'], train['Sex'])\n",
        "train[['IsAlone', 'Survived']].groupby(['IsAlone'], as_index=False).mean()\n",
        "train[['Embarked', 'Survived']].groupby(['Embarked'], as_index=False).mean().sort_values(by='Survived', ascending=False)\n",
        "\n",
        "train['Fare'].isnull().sum()\n",
        "\n",
        "\n",
        "print(train.columns.values)\n",
        "\n",
        "for x in train.columns.values:\n",
        "    if train[x].dtype != 'float64' :\n",
        "        if x != 'Survived' :\n",
        "            print('Survival Correlation by:', x)\n",
        "            print(train[[x, 'Survived']].groupby(x, as_index=False).mean())\n",
        "            print('-'*10, '\\n')\n",
        "\n",
        "\n",
        "\n",
        "\n"
      ],
      "execution_count": 34,
      "outputs": [
        {
          "output_type": "stream",
          "text": [
            "['Survived' 'Pclass' 'Sex' 'Age' 'Parch' 'Fare' 'Embarked' 'Name_length'\n",
            " 'Has_Cabin' 'FamilySize' 'IsAlone' 'Title']\n",
            "Survival Correlation by: Pclass\n",
            "   Pclass  Survived\n",
            "0       1  0.629630\n",
            "1       2  0.472826\n",
            "2       3  0.242363\n",
            "---------- \n",
            "\n",
            "Survival Correlation by: Sex\n",
            "   Sex  Survived\n",
            "0    0  0.742038\n",
            "1    1  0.188908\n",
            "---------- \n",
            "\n",
            "Survival Correlation by: Age\n",
            "   Age  Survived\n",
            "0    0  0.563636\n",
            "1    1  0.346939\n",
            "2    2  0.369231\n",
            "3    3  0.434783\n",
            "4    4  0.090909\n",
            "---------- \n",
            "\n",
            "Survival Correlation by: Parch\n",
            "   Parch  Survived\n",
            "0      0  0.343658\n",
            "1      1  0.550847\n",
            "2      2  0.500000\n",
            "3      3  0.600000\n",
            "4      4  0.000000\n",
            "5      5  0.200000\n",
            "6      6  0.000000\n",
            "---------- \n",
            "\n",
            "Survival Correlation by: Fare\n",
            "   Fare  Survived\n",
            "0     0  0.197309\n",
            "1     1  0.308756\n",
            "2     2  0.445415\n",
            "3     3  0.581081\n",
            "---------- \n",
            "\n",
            "Survival Correlation by: Embarked\n",
            "   Embarked  Survived\n",
            "0         0  0.339009\n",
            "1         1  0.553571\n",
            "2         2  0.389610\n",
            "---------- \n",
            "\n",
            "Survival Correlation by: Name_length\n",
            "    Name_length  Survived\n",
            "0            12  0.500000\n",
            "1            13  0.500000\n",
            "2            14  0.333333\n",
            "3            15  0.133333\n",
            "4            16  0.230769\n",
            "5            17  0.214286\n",
            "6            18  0.200000\n",
            "7            19  0.234375\n",
            "8            20  0.282051\n",
            "9            21  0.325000\n",
            "10           22  0.315789\n",
            "11           23  0.282051\n",
            "12           24  0.372093\n",
            "13           25  0.327273\n",
            "14           26  0.224490\n",
            "15           27  0.360000\n",
            "16           28  0.372093\n",
            "17           29  0.500000\n",
            "18           30  0.432432\n",
            "19           31  0.400000\n",
            "20           32  0.565217\n",
            "21           33  0.545455\n",
            "22           34  0.428571\n",
            "23           35  1.000000\n",
            "24           36  0.333333\n",
            "25           37  0.700000\n",
            "26           38  0.444444\n",
            "27           39  0.444444\n",
            "28           40  0.428571\n",
            "29           41  1.000000\n",
            "30           42  0.200000\n",
            "31           43  0.800000\n",
            "32           44  1.000000\n",
            "33           45  0.777778\n",
            "34           46  0.571429\n",
            "35           47  0.727273\n",
            "36           48  1.000000\n",
            "37           49  1.000000\n",
            "38           50  1.000000\n",
            "39           51  1.000000\n",
            "40           52  0.750000\n",
            "41           53  1.000000\n",
            "42           54  0.000000\n",
            "43           55  0.500000\n",
            "44           56  0.666667\n",
            "45           57  0.500000\n",
            "46           61  1.000000\n",
            "47           65  1.000000\n",
            "48           67  1.000000\n",
            "49           82  1.000000\n",
            "---------- \n",
            "\n",
            "Survival Correlation by: Has_Cabin\n",
            "   Has_Cabin  Survived\n",
            "0          0  0.299854\n",
            "1          1  0.666667\n",
            "---------- \n",
            "\n",
            "Survival Correlation by: FamilySize\n",
            "   FamilySize  Survived\n",
            "0           1  0.303538\n",
            "1           2  0.552795\n",
            "2           3  0.578431\n",
            "3           4  0.724138\n",
            "4           5  0.200000\n",
            "5           6  0.136364\n",
            "6           7  0.333333\n",
            "7           8  0.000000\n",
            "8          11  0.000000\n",
            "---------- \n",
            "\n",
            "Survival Correlation by: IsAlone\n",
            "   IsAlone  Survived\n",
            "0        0  0.505650\n",
            "1        1  0.303538\n",
            "---------- \n",
            "\n",
            "Survival Correlation by: Title\n",
            "   Title  Survived\n",
            "0      1  0.156673\n",
            "1      2  0.702703\n",
            "2      3  0.793651\n",
            "3      4  0.575000\n",
            "4      5  0.347826\n",
            "---------- \n",
            "\n"
          ],
          "name": "stdout"
        }
      ]
    },
    {
      "metadata": {
        "id": "JYh-3tOwqAjI",
        "colab_type": "code",
        "colab": {
          "base_uri": "https://localhost:8080/",
          "height": 766
        },
        "outputId": "fc7dd631-71e0-4b92-c005-3dbffc7a33ec"
      },
      "cell_type": "code",
      "source": [
        "\n",
        "plt.figure(figsize=[16,12])\n",
        "\n",
        "plt.subplot(231)\n",
        "plt.boxplot(x=train['Fare'], showmeans = True, meanline = True)\n",
        "plt.title('Fare Boxplot')\n",
        "plt.ylabel('Fare ($)')\n",
        "\n",
        "plt.subplot(232)\n",
        "plt.boxplot(train['Age'], showmeans = True, meanline = True)\n",
        "plt.title('Age Boxplot')\n",
        "plt.ylabel('Age (Years)')\n",
        "\n",
        "plt.subplot(233)\n",
        "plt.boxplot(train['FamilySize'], showmeans = True, meanline = True)\n",
        "plt.title('Family Size Boxplot')\n",
        "plt.ylabel('Family Size (#)')\n",
        "\n",
        "plt.subplot(234)\n",
        "plt.hist(x = [train[train['Survived']==1]['Fare'], train[train['Survived']==0]['Fare']], \n",
        "         stacked=True, color = ['g','r'],label = ['Survived','Dead'])\n",
        "plt.title('Fare Histogram by Survival')\n",
        "plt.xlabel('Fare ($)')\n",
        "plt.ylabel('# of Passengers')\n",
        "plt.legend()\n",
        "\n",
        "plt.subplot(235)\n",
        "plt.hist(x = [train[train['Survived']==1]['Age'], train[train['Survived']==0]['Age']], \n",
        "         stacked=True, color = ['g','r'],label = ['Survived','Dead'])\n",
        "plt.title('Age Histogram by Survival')\n",
        "plt.xlabel('Age (Years)')\n",
        "plt.ylabel('# of Passengers')\n",
        "plt.legend()\n",
        "\n",
        "\n",
        "plt.subplot(236)\n",
        "plt.hist(x = [train[train['Survived']==1]['FamilySize'], train[train['Survived']==0]['FamilySize']], \n",
        "         stacked=True, color = ['g','r'],label = ['Survived','Dead'])\n",
        "plt.title('Family Size Histogram by Survival')\n",
        "plt.xlabel('Family Size (#)')\n",
        "plt.ylabel('# of Passengers')\n",
        "plt.legend()\n",
        "\n",
        "\n",
        "\n"
      ],
      "execution_count": 35,
      "outputs": [
        {
          "output_type": "execute_result",
          "data": {
            "text/plain": [
              "<matplotlib.legend.Legend at 0x7f48294fdc18>"
            ]
          },
          "metadata": {
            "tags": []
          },
          "execution_count": 35
        },
        {
          "output_type": "display_data",
          "data": {
            "image/png": "[encoded data removed]",
            "text/plain": [
              "<matplotlib.figure.Figure at 0x7f48296d1908>"
            ]
          },
          "metadata": {
            "tags": []
          }
        }
      ]
    },
    {
      "metadata": {
        "id": "wiF_4N_oqEol",
        "colab_type": "code",
        "colab": {
          "base_uri": "https://localhost:8080/",
          "height": 808
        },
        "outputId": "8792c189-79d0-4e3d-afc7-c23722fe86f0"
      },
      "cell_type": "code",
      "source": [
        "import seaborn as sns\n",
        "\n",
        "\n",
        "\n",
        "'''\n",
        "All right so now having cleaned the features and extracted relevant information and dropped the categorical columns our features should now all be numeric, a format suitable to feed into our Machine Learning models. However before we proceed let us generate some simple correlation and distribution plots of our transformed dataset to observe ho\n",
        "Visualisations\n",
        "'''\n",
        "\n",
        "train.head(3)\n",
        "\n",
        "train.astype(float).corr()\n",
        "\n",
        "\n",
        "\n",
        "'''\n",
        "Pearson Correlation Heatmap\n",
        "\n",
        "\n",
        "\n",
        "let us generate some correlation plots of the features to see how \n",
        "related one feature is to the next. To do so, we will utilise the \n",
        "Seaborn plotting package which allows us to plot heatmaps very \n",
        "conveniently as follows\n",
        "'''\n",
        "\n",
        "colormap = plt.cm.RdBu\n",
        "plt.figure(figsize=(14,12))\n",
        "plt.title('Pearson Correlation of Features', y=1.05, size=15)\n",
        "sns.heatmap(train.astype(float).corr(),linewidths=0.1,vmax=1.0, \n",
        "            square=True, cmap=colormap, linecolor='white', annot=True)\n",
        "\n",
        "'''\n",
        "Takeaway from the Plots\n",
        "\n",
        "One thing that that the Pearson Correlation plot can tell us is that \n",
        "there are not too many features strongly correlated with one another. \n",
        "This is good from a point of view of feeding these features into your \n",
        "learning model because this means that there isn't much redundant or \n",
        "superfluous data in our training set and we are happy that each feature \n",
        "carries with it some unique information. Here are two most correlated \n",
        "features are that of Family size and Parch (Parents and Children). I'll \n",
        "still leave both features in for the purposes of this exercise.\n",
        "\n",
        "'''\n"
      ],
      "execution_count": 37,
      "outputs": [
        {
          "output_type": "execute_result",
          "data": {
            "text/plain": [
              "\"\\nTakeaway from the Plots\\n\\nOne thing that that the Pearson Correlation plot can tell us is that \\nthere are not too many features strongly correlated with one another. \\nThis is good from a point of view of feeding these features into your \\nlearning model because this means that there isn't much redundant or \\nsuperfluous data in our training set and we are happy that each feature \\ncarries with it some unique information. Here are two most correlated \\nfeatures are that of Family size and Parch (Parents and Children). I'll \\nstill leave both features in for the purposes of this exercise.\\n\\n\""
            ]
          },
          "metadata": {
            "tags": []
          },
          "execution_count": 37
        },
        {
          "output_type": "display_data",
          "data": {
            "image/png": "[encoded data removed]",
            "text/plain": [
              "<matplotlib.figure.Figure at 0x7f4826ba6f98>"
            ]
          },
          "metadata": {
            "tags": []
          }
        }
      ]
    },
    {
      "metadata": {
        "id": "DeH4BE76qIyF",
        "colab_type": "code",
        "colab": {}
      },
      "cell_type": "code",
      "source": [
        "\n",
        "\n",
        "from sklearn.linear_model import LogisticRegression\n",
        "from sklearn.svm import SVC, LinearSVC\n",
        "from sklearn.ensemble import RandomForestClassifier\n",
        "from sklearn.neighbors import KNeighborsClassifier\n",
        "from sklearn.naive_bayes import GaussianNB\n",
        "from sklearn.linear_model import Perceptron\n",
        "from sklearn.linear_model import SGDClassifier\n",
        "from sklearn.tree import DecisionTreeClassifier\n",
        "\n",
        "\n"
      ],
      "execution_count": 0,
      "outputs": []
    },
    {
      "metadata": {
        "id": "nQp1EV5fqMob",
        "colab_type": "code",
        "colab": {
          "base_uri": "https://localhost:8080/",
          "height": 34
        },
        "outputId": "bc7fede0-90bd-4835-f5e1-7d5631477ffd"
      },
      "cell_type": "code",
      "source": [
        "\n",
        "X_train = train.drop(\"Survived\", axis=1)\n",
        "Y_train = train[\"Survived\"]\n",
        "X_test = test\n",
        "\n",
        "X_train.shape, Y_train.shape, X_test.shape\n",
        "\n",
        "X_train.columns\n",
        "X_test.columns\n",
        "\n",
        "\n",
        "# Logistic Regression\n",
        "\n",
        "logreg = LogisticRegression()\n",
        "logreg.fit(X_train, Y_train)\n",
        "Y_pred = logreg.predict(X_test)\n",
        "acc_log = round(logreg.score(X_train, Y_train) * 100, 2)\n",
        "acc_log\n",
        "\n",
        "\n"
      ],
      "execution_count": 39,
      "outputs": [
        {
          "output_type": "execute_result",
          "data": {
            "text/plain": [
              "81.71"
            ]
          },
          "metadata": {
            "tags": []
          },
          "execution_count": 39
        }
      ]
    },
    {
      "metadata": {
        "id": "dN04GFB9qRT2",
        "colab_type": "code",
        "colab": {
          "base_uri": "https://localhost:8080/",
          "height": 34
        },
        "outputId": "824c7620-326e-40fb-8663-5e72437c6772"
      },
      "cell_type": "code",
      "source": [
        "\n",
        "'''\n",
        "Next we model using Support Vector Machines which are supervised learning models \n",
        "with associated learning algorithms that analyze data used for classification and \n",
        "regression analysis. Given a set of training samples, each marked as belonging to \n",
        "one or the other of two categories, an SVM training algorithm builds a model that \n",
        "assigns new test samples to one category or the other, making it a \n",
        "non-probabilistic binary linear classifier. Reference Wikipedia.\n",
        "\n",
        "Note that the model generates a confidence score which is higher than \n",
        "Logistics Regression model.\n",
        "'''\n",
        "\n",
        "\n",
        "# Support Vector Machines\n",
        "\n",
        "svc = SVC()\n",
        "svc.fit(X_train, Y_train)\n",
        "Y_pred = svc.predict(X_test)\n",
        "acc_svc = round(svc.score(X_train, Y_train) * 100, 2)\n",
        "acc_svc\n",
        "\n"
      ],
      "execution_count": 40,
      "outputs": [
        {
          "output_type": "execute_result",
          "data": {
            "text/plain": [
              "86.76"
            ]
          },
          "metadata": {
            "tags": []
          },
          "execution_count": 40
        }
      ]
    },
    {
      "metadata": {
        "id": "51XutBYKqVRD",
        "colab_type": "code",
        "colab": {
          "base_uri": "https://localhost:8080/",
          "height": 34
        },
        "outputId": "9bed2807-6239-46e9-e44a-43b4acf11fd5"
      },
      "cell_type": "code",
      "source": [
        "\n",
        "'''\n",
        "In pattern recognition, the k-Nearest Neighbors algorithm (or k-NN \n",
        "for short) is a non-parametric method used for classification \n",
        "and regression. A sample is classified by a majority vote of \n",
        "its neighbors, with the sample being assigned to the class \n",
        "most common among its k nearest neighbors (k is a positive \n",
        "integer, typically small). If k = 1, then the object is \n",
        "simply assigned to the class of that single nearest neighbor. \n",
        "Reference Wikipedia.\n",
        "\n",
        "KNN confidence score is better than Logistics Regression \n",
        "but worse than SVM.\n",
        "'''\n",
        "\n",
        "knn = KNeighborsClassifier(n_neighbors = 3)\n",
        "knn.fit(X_train, Y_train)\n",
        "Y_pred = knn.predict(X_test)\n",
        "acc_knn = round(knn.score(X_train, Y_train) * 100, 2)\n",
        "acc_knn\n",
        "\n"
      ],
      "execution_count": 41,
      "outputs": [
        {
          "output_type": "execute_result",
          "data": {
            "text/plain": [
              "87.88"
            ]
          },
          "metadata": {
            "tags": []
          },
          "execution_count": 41
        }
      ]
    },
    {
      "metadata": {
        "id": "61YwY_eBqbUc",
        "colab_type": "code",
        "colab": {
          "base_uri": "https://localhost:8080/",
          "height": 34
        },
        "outputId": "c3a77857-f398-455f-e096-64ed00b045e1"
      },
      "cell_type": "code",
      "source": [
        "'''\n",
        "In machine learning, naive Bayes classifiers are a family of \n",
        "simple probabilistic classifiers based on applying Bayes' theorem with \n",
        "strong (naive) independence assumptions between the features. \n",
        "Naive Bayes classifiers are highly scalable, requiring a \n",
        "number of parameters linear in the number of variables (features) \n",
        "in a learning problem. Reference Wikipedia.\n",
        "\n",
        "The model generated confidence score is the lowest \n",
        "among the models evaluated so far.\n",
        "'''\n",
        "\n",
        "# Gaussian Naive Bayes\n",
        "\n",
        "gaussian = GaussianNB()\n",
        "gaussian.fit(X_train, Y_train)\n",
        "Y_pred = gaussian.predict(X_test)\n",
        "acc_gaussian = round(gaussian.score(X_train, Y_train) * 100, 2)\n",
        "acc_gaussian\n",
        "\n"
      ],
      "execution_count": 42,
      "outputs": [
        {
          "output_type": "execute_result",
          "data": {
            "text/plain": [
              "79.69"
            ]
          },
          "metadata": {
            "tags": []
          },
          "execution_count": 42
        }
      ]
    },
    {
      "metadata": {
        "id": "_F-rR-34qqjh",
        "colab_type": "code",
        "colab": {
          "base_uri": "https://localhost:8080/",
          "height": 34
        },
        "outputId": "6c130fd5-e320-4a05-e130-c3f82f21620a"
      },
      "cell_type": "code",
      "source": [
        "\n",
        "'''\n",
        "The perceptron is an algorithm for supervised learning \n",
        "of binary classifiers (functions that can decide whether \n",
        "an input, represented by a vector of numbers, belongs \n",
        "to some specific class or not). It is a type of linear \n",
        "classifier, i.e. a classification algorithm that makes \n",
        "its predictions based on a linear predictor function \n",
        "combining a set of weights with the feature vector. \n",
        "The algorithm allows for online learning, in that it \n",
        "processes elements in the training set one at a time. \n",
        "Reference Wikipedia.\n",
        "\n",
        "# Perceptron\n",
        "'''\n",
        "\n",
        "perceptron = Perceptron()\n",
        "perceptron.fit(X_train, Y_train)\n",
        "Y_pred = perceptron.predict(X_test)\n",
        "acc_perceptron = round(perceptron.score(X_train, Y_train) * 100, 2)\n",
        "acc_perceptron\n",
        "\n"
      ],
      "execution_count": 43,
      "outputs": [
        {
          "output_type": "execute_result",
          "data": {
            "text/plain": [
              "81.37"
            ]
          },
          "metadata": {
            "tags": []
          },
          "execution_count": 43
        }
      ]
    },
    {
      "metadata": {
        "id": "L1_x4y6-quTI",
        "colab_type": "code",
        "colab": {
          "base_uri": "https://localhost:8080/",
          "height": 34
        },
        "outputId": "de8ba365-ce7b-4087-a556-1bab7bf3157f"
      },
      "cell_type": "code",
      "source": [
        "\n",
        "# Linear SVC\n",
        "\n",
        "linear_svc = LinearSVC()\n",
        "linear_svc.fit(X_train, Y_train)\n",
        "Y_pred = linear_svc.predict(X_test)\n",
        "acc_linear_svc = round(linear_svc.score(X_train, Y_train) * 100, 2)\n",
        "acc_linear_svc\n",
        "\n"
      ],
      "execution_count": 44,
      "outputs": [
        {
          "output_type": "execute_result",
          "data": {
            "text/plain": [
              "81.59"
            ]
          },
          "metadata": {
            "tags": []
          },
          "execution_count": 44
        }
      ]
    },
    {
      "metadata": {
        "id": "wkoYadpaqz6a",
        "colab_type": "code",
        "colab": {
          "base_uri": "https://localhost:8080/",
          "height": 34
        },
        "outputId": "31008f69-284a-4d2c-b1db-0bb5eeb7e207"
      },
      "cell_type": "code",
      "source": [
        "\n",
        "# Stochastic Gradient Descent\n",
        "\n",
        "sgd = SGDClassifier()\n",
        "sgd.fit(X_train, Y_train)\n",
        "Y_pred = sgd.predict(X_test)\n",
        "acc_sgd = round(sgd.score(X_train, Y_train) * 100, 2)\n",
        "acc_sgd\n",
        "\n"
      ],
      "execution_count": 45,
      "outputs": [
        {
          "output_type": "execute_result",
          "data": {
            "text/plain": [
              "80.13"
            ]
          },
          "metadata": {
            "tags": []
          },
          "execution_count": 45
        }
      ]
    },
    {
      "metadata": {
        "id": "6tUbacKIq3ZK",
        "colab_type": "code",
        "colab": {
          "base_uri": "https://localhost:8080/",
          "height": 34
        },
        "outputId": "34a931b2-7e20-472e-e67e-fae6a948a0e8"
      },
      "cell_type": "code",
      "source": [
        "'''\n",
        "This model uses a decision tree as a predictive model which \n",
        "maps features (tree branches) to conclusions about the target \n",
        "value (tree leaves). Tree models where the target variable \n",
        "can take a finite set of values are called classification \n",
        "trees; in these tree structures, leaves represent class labels \n",
        "and branches represent conjunctions of features that lead to \n",
        "those class labels. Decision trees where the target variable \n",
        "can take continuous values (typically real numbers) are \n",
        "called regression trees. Reference Wikipedia.\n",
        "\n",
        "The model confidence score is the highest among models \n",
        "evaluated so far.\n",
        "'''\n",
        "\n",
        "# Decision Tree\n",
        "\n",
        "decision_tree = DecisionTreeClassifier()\n",
        "decision_tree.fit(X_train, Y_train)\n",
        "Y_pred = decision_tree.predict(X_test)\n",
        "acc_decision_tree = round(decision_tree.score(X_train, Y_train) * 100, 2)\n",
        "acc_decision_tree\n",
        "\n"
      ],
      "execution_count": 46,
      "outputs": [
        {
          "output_type": "execute_result",
          "data": {
            "text/plain": [
              "96.63"
            ]
          },
          "metadata": {
            "tags": []
          },
          "execution_count": 46
        }
      ]
    },
    {
      "metadata": {
        "id": "alLNsI0bq_GP",
        "colab_type": "code",
        "colab": {
          "base_uri": "https://localhost:8080/",
          "height": 34
        },
        "outputId": "40f66761-83ff-4704-b99a-2ac04086b40e"
      },
      "cell_type": "code",
      "source": [
        "\n",
        "'''\n",
        "The next model Random Forests is one of the most popular. \n",
        "Random forests or random decision forests are an ensemble \n",
        "learning method for classification, regression and other tasks, \n",
        "that operate by constructing a multitude of decision trees (n_estimators=100) \n",
        "at training time and outputting the class that is the mode \n",
        "of the classes (classification) or mean prediction (regression) \n",
        "of the individual trees. Reference Wikipedia.\n",
        "\n",
        "The model confidence score is the highest among models evaluated \n",
        "so far. We decide to use this model's output (Y_pred) for \n",
        "creating our competition submission of results.\n",
        "\n",
        "# Random Forest\n",
        "'''\n",
        "\n",
        "random_forest = RandomForestClassifier(n_estimators=100)\n",
        "random_forest.fit(X_train, Y_train)\n",
        "Y_pred = random_forest.predict(X_test)\n",
        "random_forest.score(X_train, Y_train)\n",
        "acc_random_forest = round(random_forest.score(X_train, Y_train) * 100, 2)\n",
        "acc_random_forest\n",
        "\n",
        "\n"
      ],
      "execution_count": 47,
      "outputs": [
        {
          "output_type": "execute_result",
          "data": {
            "text/plain": [
              "96.52"
            ]
          },
          "metadata": {
            "tags": []
          },
          "execution_count": 47
        }
      ]
    },
    {
      "metadata": {
        "id": "QousS2EDrB-Z",
        "colab_type": "code",
        "colab": {
          "base_uri": "https://localhost:8080/",
          "height": 328
        },
        "outputId": "a620364e-4a4c-4823-cd22-070e07c2081c"
      },
      "cell_type": "code",
      "source": [
        "#Model evaluation\n",
        "\n",
        "'''\n",
        "We can now rank our evaluation of all the models to choose \n",
        "the best one for our problem. While both Decision Tree and \n",
        "Random Forest score the same, we choose to use Random Forest \n",
        "as they correct for decision trees' habit of overfitting to \n",
        "their training set.\n",
        "'''\n",
        "\n",
        "\n",
        "models = pd.DataFrame({\n",
        "    'Model': ['Support Vector Machines', 'KNN', 'Logistic Regression', \n",
        "              'Random Forest', 'Naive Bayes', 'Perceptron', \n",
        "              'Stochastic Gradient Decent', 'Linear SVC', \n",
        "              'Decision Tree'],\n",
        "    'Score': [acc_svc, acc_knn, acc_log, \n",
        "              acc_random_forest, acc_gaussian, acc_perceptron, \n",
        "              acc_sgd, acc_linear_svc, acc_decision_tree]})\n",
        "models.sort_values(by='Score', ascending=False)\n"
      ],
      "execution_count": 48,
      "outputs": [
        {
          "output_type": "execute_result",
          "data": {
            "text/html": [
              "<div>\n",
              "<style scoped>\n",
              "    .dataframe tbody tr th:only-of-type {\n",
              "        vertical-align: middle;\n",
              "    }\n",
              "\n",
              "    .dataframe tbody tr th {\n",
              "        vertical-align: top;\n",
              "    }\n",
              "\n",
              "    .dataframe thead th {\n",
              "        text-align: right;\n",
              "    }\n",
              "</style>\n",
              "<table border=\"1\" class=\"dataframe\">\n",
              "  <thead>\n",
              "    <tr style=\"text-align: right;\">\n",
              "      <th></th>\n",
              "      <th>Model</th>\n",
              "      <th>Score</th>\n",
              "    </tr>\n",
              "  </thead>\n",
              "  <tbody>\n",
              "    <tr>\n",
              "      <th>8</th>\n",
              "      <td>Decision Tree</td>\n",
              "      <td>96.63</td>\n",
              "    </tr>\n",
              "    <tr>\n",
              "      <th>3</th>\n",
              "      <td>Random Forest</td>\n",
              "      <td>96.52</td>\n",
              "    </tr>\n",
              "    <tr>\n",
              "      <th>1</th>\n",
              "      <td>KNN</td>\n",
              "      <td>87.88</td>\n",
              "    </tr>\n",
              "    <tr>\n",
              "      <th>0</th>\n",
              "      <td>Support Vector Machines</td>\n",
              "      <td>86.76</td>\n",
              "    </tr>\n",
              "    <tr>\n",
              "      <th>2</th>\n",
              "      <td>Logistic Regression</td>\n",
              "      <td>81.71</td>\n",
              "    </tr>\n",
              "    <tr>\n",
              "      <th>7</th>\n",
              "      <td>Linear SVC</td>\n",
              "      <td>81.59</td>\n",
              "    </tr>\n",
              "    <tr>\n",
              "      <th>5</th>\n",
              "      <td>Perceptron</td>\n",
              "      <td>81.37</td>\n",
              "    </tr>\n",
              "    <tr>\n",
              "      <th>6</th>\n",
              "      <td>Stochastic Gradient Decent</td>\n",
              "      <td>80.13</td>\n",
              "    </tr>\n",
              "    <tr>\n",
              "      <th>4</th>\n",
              "      <td>Naive Bayes</td>\n",
              "      <td>79.69</td>\n",
              "    </tr>\n",
              "  </tbody>\n",
              "</table>\n",
              "</div>"
            ],
            "text/plain": [
              "                        Model  Score\n",
              "8               Decision Tree  96.63\n",
              "3               Random Forest  96.52\n",
              "1                         KNN  87.88\n",
              "0     Support Vector Machines  86.76\n",
              "2         Logistic Regression  81.71\n",
              "7                  Linear SVC  81.59\n",
              "5                  Perceptron  81.37\n",
              "6  Stochastic Gradient Decent  80.13\n",
              "4                 Naive Bayes  79.69"
            ]
          },
          "metadata": {
            "tags": []
          },
          "execution_count": 48
        }
      ]
    }
  ]
}